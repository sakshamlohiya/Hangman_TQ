{
 "cells": [
  {
   "cell_type": "code",
   "execution_count": 1,
   "metadata": {},
   "outputs": [
    {
     "name": "stdout",
     "output_type": "stream",
     "text": [
      "Loading model from checkpoints/checkpoint-15000\n",
      "cuda\n"
     ]
    }
   ],
   "source": [
    "from hangman_predictor import get_top_predictions\n",
    "get_top_predictions(guessed_letters, current_state, top_n=5)"
   ]
  },
  {
   "cell_type": "code",
   "execution_count": 2,
   "metadata": {},
   "outputs": [
    {
     "data": {
      "text/plain": [
       "['a', '[SEP]', 'a', '*']"
      ]
     },
     "execution_count": 2,
     "metadata": {},
     "output_type": "execute_result"
    }
   ],
   "source": [
    "guessed_letters = [\"a\"]\n",
    "current_state = [\"a\", \"*\"]\n",
    "\n",
    "sequence = list(guessed_letters) + ['[SEP]'] + list(current_state)\n",
    "sequence"
   ]
  },
  {
   "cell_type": "code",
   "execution_count": 15,
   "metadata": {},
   "outputs": [
    {
     "data": {
      "text/plain": [
       "[{'letter': 'd', 'probability': 0.07493946701288223},\n",
       " {'letter': 'm', 'probability': 0.06664960831403732},\n",
       " {'letter': 's', 'probability': 0.06587589532136917},\n",
       " {'letter': 'r', 'probability': 0.06410318613052368},\n",
       " {'letter': 't', 'probability': 0.06046698987483978}]"
      ]
     },
     "execution_count": 15,
     "metadata": {},
     "output_type": "execute_result"
    }
   ],
   "source": [
    "get_top_predictions(guessed_letters, current_state, top_n=5)"
   ]
  },
  {
   "cell_type": "code",
   "execution_count": 11,
   "metadata": {},
   "outputs": [
    {
     "data": {
      "text/plain": [
       "{'a': 0.0,\n",
       " 'b': 0.05710053816437721,\n",
       " 'c': 0.04155050590634346,\n",
       " 'd': 0.07493946701288223,\n",
       " 'e': 0.010375890880823135,\n",
       " 'f': 0.039231326431035995,\n",
       " 'g': 0.03854186087846756,\n",
       " 'h': 0.04029024392366409,\n",
       " 'i': 0.028934285044670105,\n",
       " 'j': 0.031069345772266388,\n",
       " 'k': 0.023570071905851364,\n",
       " 'l': 0.05657320097088814,\n",
       " 'm': 0.06664960831403732,\n",
       " 'n': 0.059762123972177505,\n",
       " 'o': 0.016207408159971237,\n",
       " 'p': 0.04188334941864014,\n",
       " 'q': 0.008851277641952038,\n",
       " 'r': 0.06410318613052368,\n",
       " 's': 0.06587589532136917,\n",
       " 't': 0.06046698987483978,\n",
       " 'u': 0.02354707382619381,\n",
       " 'v': 0.04879368469119072,\n",
       " 'w': 0.0467037595808506,\n",
       " 'x': 0.020208610221743584,\n",
       " 'y': 0.015452648513019085,\n",
       " 'z': 0.01843416690826416}"
      ]
     },
     "execution_count": 11,
     "metadata": {},
     "output_type": "execute_result"
    }
   ],
   "source": [
    "predict_next_letter(guessed_letters, current_state)"
   ]
  },
  {
   "cell_type": "code",
   "execution_count": 3,
   "metadata": {},
   "outputs": [],
   "source": [
    "input_ids = tokenizer.encode(sequence)"
   ]
  },
  {
   "cell_type": "code",
   "execution_count": 4,
   "metadata": {},
   "outputs": [
    {
     "data": {
      "text/plain": [
       "array([ 0, 28,  0, 26, 27, 27, 27, 27, 27, 27, 27, 27, 27, 27, 27, 27, 27,\n",
       "       27, 27, 27, 27, 27, 27, 27, 27, 27, 27, 27, 27, 27, 27, 27, 27, 27,\n",
       "       27, 27, 27, 27, 27, 27, 27, 27, 27, 27, 27, 27, 27, 27, 27, 27])"
      ]
     },
     "execution_count": 4,
     "metadata": {},
     "output_type": "execute_result"
    }
   ],
   "source": [
    "input_ids"
   ]
  },
  {
   "cell_type": "code",
   "execution_count": 5,
   "metadata": {},
   "outputs": [],
   "source": [
    "input_tensor = torch.tensor(input_ids, dtype=torch.long).unsqueeze(0).to(device)"
   ]
  },
  {
   "cell_type": "code",
   "execution_count": 6,
   "metadata": {},
   "outputs": [
    {
     "data": {
      "text/plain": [
       "tensor([[ 0, 28,  0, 26, 27, 27, 27, 27, 27, 27, 27, 27, 27, 27, 27, 27, 27, 27,\n",
       "         27, 27, 27, 27, 27, 27, 27, 27, 27, 27, 27, 27, 27, 27, 27, 27, 27, 27,\n",
       "         27, 27, 27, 27, 27, 27, 27, 27, 27, 27, 27, 27, 27, 27]],\n",
       "       device='cuda:0')"
      ]
     },
     "execution_count": 6,
     "metadata": {},
     "output_type": "execute_result"
    }
   ],
   "source": [
    "input_tensor"
   ]
  },
  {
   "cell_type": "code",
   "execution_count": 10,
   "metadata": {},
   "outputs": [
    {
     "data": {
      "text/plain": [
       "tensor([[0.0883, 5.7101, 4.1551, 7.4939, 1.0376, 3.9231, 3.8542, 4.0290, 2.8934,\n",
       "         3.1069, 2.3570, 5.6573, 6.6650, 5.9762, 1.6207, 4.1883, 0.8851, 6.4103,\n",
       "         6.5876, 6.0467, 2.3547, 4.8794, 4.6704, 2.0209, 1.5453, 1.8434]],\n",
       "       device='cuda:0', grad_fn=<MulBackward0>)"
      ]
     },
     "execution_count": 10,
     "metadata": {},
     "output_type": "execute_result"
    }
   ],
   "source": [
    "model(input_tensor)[\"probs\"]*100"
   ]
  },
  {
   "cell_type": "code",
   "execution_count": null,
   "metadata": {},
   "outputs": [],
   "source": []
  }
 ],
 "metadata": {
  "kernelspec": {
   "display_name": "aayush",
   "language": "python",
   "name": "python3"
  },
  "language_info": {
   "codemirror_mode": {
    "name": "ipython",
    "version": 3
   },
   "file_extension": ".py",
   "mimetype": "text/x-python",
   "name": "python",
   "nbconvert_exporter": "python",
   "pygments_lexer": "ipython3",
   "version": "3.12.9"
  }
 },
 "nbformat": 4,
 "nbformat_minor": 2
}
